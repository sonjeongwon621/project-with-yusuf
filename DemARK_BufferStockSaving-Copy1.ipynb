{
 "cells": [
  {
   "cell_type": "markdown",
   "metadata": {},
   "source": [
    "# [\"Buffer-Stock Saving and the Life Cycle/Permanent Income Hypothesis](https://www.jstor.org/stable/2951275?seq=1#page_scan_tab_contents)\"\n",
    "- Christopher D. Carroll\n",
    "- Notebook is prepared by Yusuf Suha Kulu and Jeongwon (John) Son"
   ]
  },
  {
   "cell_type": "markdown",
   "metadata": {},
   "source": [
    "### Summary\n",
    "\n",
    "This paper argues that the saving behaviour of a household is better described by the buffer stock version of the Life Cycle/Permanent Income Hypothesis (LC/PIH) than the traditional version of it. Buffer Stock Consumers set average consumption growth equal to average labor income growth, regardless of tastes. The buffer stock model predicts a higher marginal propensity to consume (MPC) out of transitory income, higher effective discount rate for future labor income, and a positive sign for the correlation between saving and expected labor income growth.\n",
    "\n",
    "The finite horizon version of the model presented in the paper explains three emprical puzzles.\n",
    "\n",
    "1. __Consumption/income parallel :__  Aggregate consumption parallels growth in income over periods of more than a few years.\n",
    "2. __Consumption/income divergence :__ For individual households, consumption is far from current income. This implies the consumption/income parallel does not arise at the household level.\n",
    "3. __Stability of the household age/wealth profile :__ The effects of the productivity growth slowdown after 1973 on the age/median-wealth profile and the extraordinarily high volatility of the household liquid wealth are explained. \n"
   ]
  },
  {
   "cell_type": "markdown",
   "metadata": {},
   "source": [
    "### Comparison to Previous Work\n",
    "\n",
    "#### Deaton [1991] : Infinite Horizon Model\n",
    "* Unable to simultaneously incorporate both transitory and permanent shocks to income\n",
    "* Explicit liquidity constraints are imposed\n",
    "* Euler Equation is violated whenever the liquidity constraints are binding. \n",
    "\n",
    "\n",
    "#### Zeldes [1989a] : Finite Horizon Model\n",
    "* Consumers are assumed to be more patient.\n",
    "* No examination of the infinite horizon version of the model.\n",
    "* The model is not calibrated explicity by using panel data on household income from the PSID.\n",
    "\n",
    "However, the combination of the assumption that income can go to zero in each period with the assumption of non zero consumption is sufficient to guarantee that consumers will never borrow. Very similar household behaviour emerges from Deaton and this paper.\n",
    "\n",
    "The traditional model is the following:\n",
    "\n",
    "Finite Horizon  \n",
    "\n",
    "$$C_t = k_t[X_t + H_t]$$ \n",
    "$$H_t = \\sum_{i=t+1}^{T}R^{i-t}Y_{i} $$\n",
    "$$k_t = \\frac{(1 - {[R^{-1}(\\beta R)^{1/\\rho}]})}{(1 - {[R^{-1}(\\beta R)^{1/\\rho}]}^{T-t+1})}$$\n",
    "\n",
    "\n",
    "\n",
    "Infinite Horizon \n",
    "\n",
    "$$C_t = k_t[X_t + H_t] $$\n",
    "$$H_t = \\sum_{i=t+1}^{\\infty}R^{i-t}Y_{i} \\approx \\frac{Y_t}{r - g} $$\n",
    "$$k = {(1 - {[R^{-1}(\\beta R)^{1/\\rho}]})}$$"
   ]
  },
  {
   "cell_type": "markdown",
   "metadata": {},
   "source": [
    "### Model Setup\n",
    "\n",
    " \n",
    "\n",
    "The consumer solves the following intertemporal optimization problem. \n",
    "\n",
    " \n",
    "\n",
    "$$ \\max \\quad E_t \\Sigma_{i=t}^T \\beta^{i-t}u(C_i) $$\n",
    "\n",
    "\\begin{aligned} \\text{s.t.} \\quad W_{t+q} &= R[W_t + Y_t - C_t]\\\\\n",
    "Y_t &= P_tV_t\\\\\n",
    "P_t &= G_tP_{t-1}N_t \n",
    "\\end{aligned}\n",
    "\n",
    "$Y$: current labor income \n",
    "\n",
    "$P$: permanent labor income \n",
    "\n",
    "$V$: transitory income shock \n",
    "\n",
    "$N$: permanent income shock\n",
    "\n",
    "$G = (1+g)$: growth factor for permanent labor income \n",
    "\n",
    "$W$: stock of physical net wealth \n",
    "\n",
    "$R = (1+r)$: gross interest rate \n",
    "\n",
    "$\\beta = 1/(1+\\delta)$: discount factor\n",
    "\n",
    " \n",
    "\n",
    "Solving the consumer's optimization problem gives the following Euler equation. \n",
    "\n",
    " \n",
    "\n",
    "$$1= R\\beta E_{t-1}[\\{c_t[R[x_{t-1}-c_{t-1}]/GN_t + V_t]GN_t/c_{t-1}\\}^{-\\rho}]$$ \n",
    "\n",
    "Lower case variables are defined as the uppercase variables divided by the current level of permanent income. \n",
    "\n",
    "$X = W+Y$: gross wealth\n",
    "\n",
    " \n",
    "\n",
    "Since this is a life cycle model, the consumer consumes everything in the last period:$c_T[x_T] = x_t$. This implies that by recursion, the Euler equation gives the consumption ratio for each period. \n",
    "\n",
    " \n",
    "\n",
    "If shocks to consumption are assumed to be lognormally distributed, a log-linearized version of the Euler equation takes the following form.\n",
    "\n",
    " \n",
    "\n",
    "$$ E_t\\Delta \\ln C_{t+1} \\approx \\rho^{-1}(r-\\delta) + (\\rho/2)\\text{var}_t(\\Delta\\ln C_{t+1}) + e_{t+1} $$\n",
    "\n",
    " \n",
    "\n",
    "The figure below depicts expected consumption growth. As can be seen from the directional arrows, there is a target level of wealth ratio and consumption ratio."
   ]
  },
  {
   "cell_type": "code",
   "execution_count": 2,
   "metadata": {
    "code_folding": []
   },
   "outputs": [],
   "source": [
    "# This cell has a bit of initial setup. You can click the triangle to the left to expand it.\n",
    "# Click the \"Run\" button immediately above the notebook in order to execute the contents of any cell\n",
    "# WARNING: Each cell in the notebook relies upon results generated by previous cells\n",
    "#   The most common problem beginners have is to execute a cell before all its predecessors\n",
    "#   If you do this, you can restart the kernel (see the \"Kernel\" menu above) and start over\n",
    "%matplotlib inline\n",
    "import matplotlib.pyplot as plt\n",
    "\n",
    "# The first step is to be able to bring things in from different directories\n",
    "import sys \n",
    "import os\n",
    "\n",
    "sys.path.insert(0, os.path.abspath('../lib'))\n",
    "\n",
    "#from util import log_progress\n",
    "\n",
    "import numpy as np\n",
    "import HARK \n",
    "from time import clock\n",
    "from copy import deepcopy\n",
    "mystr = lambda number : \"{:.4f}\".format(number)\n",
    "from HARK.utilities import plotFuncs"
   ]
  },
  {
   "cell_type": "code",
   "execution_count": 3,
   "metadata": {
    "code_folding": [
     0
    ]
   },
   "outputs": [],
   "source": [
    "# Define a parameter dictionary with baseline parameter values\n",
    "\n",
    "# Set the baseline parameter values \n",
    "PermGroFac = 1.02\n",
    "Rfree      = 1\n",
    "DiscFac    = 0.96\n",
    "CRRA       = 2.00\n",
    "UnempPrb   = 0.005\n",
    "IncUnemp   = 0.0\n",
    "PermShkStd = 0.1\n",
    "TranShkStd = 0.1\n",
    "# Import default parameter values\n",
    "import HARK.ConsumptionSaving.ConsumerParameters as Params \n",
    "\n",
    "# Make a dictionary containing all parameters needed to solve the model\n",
    "base_params = Params.init_idiosyncratic_shocks\n",
    "\n",
    "# Set the parameters for the baseline results in the paper\n",
    "# using the variable values defined in the cell above\n",
    "base_params['PermGroFac'] = [PermGroFac]   # Permanent income growth factor\n",
    "base_params['Rfree']      = Rfree          # Interest factor on assets\n",
    "base_params['DiscFac']    = DiscFac        # Time Preference Factor\n",
    "base_params['CRRA']       = CRRA           # Coefficient of relative risk aversion\n",
    "base_params['UnempPrb']   = UnempPrb       # Probability of unemployment (e.g. Probability of Zero Income in the paper)\n",
    "base_params['IncUnemp']   = IncUnemp       # Induces natural borrowing constraint\n",
    "base_params['PermShkStd'] = [PermShkStd]   # Standard deviation of log permanent income shocks\n",
    "base_params['TranShkStd'] = [TranShkStd]   # Standard deviation of log transitory income shocks\n",
    "\n",
    "# Some technical settings that are not interesting for our purposes\n",
    "base_params['LivPrb']       = [1.0]   # 100 percent probability of living to next period\n",
    "base_params['CubicBool']    = True    # Use cubic spline interpolation\n",
    "base_params['T_cycle']      = 1       # No 'seasonal' cycles\n",
    "base_params['BoroCnstArt']  = None    # No artificial borrowing constraint\n",
    "\n"
   ]
  },
  {
   "cell_type": "code",
   "execution_count": 4,
   "metadata": {},
   "outputs": [
    {
     "name": "stdout",
     "output_type": "stream",
     "text": [
      "The given type violates the finite human wealth condition; the finite human wealth factor value 1.02000 \n"
     ]
    }
   ],
   "source": [
    "from HARK.ConsumptionSaving.ConsIndShockModel import IndShockConsumerType\n",
    "baseEx_inf = IndShockConsumerType(cycles=0,**base_params)\n",
    "\n",
    "baseEx_inf.solve()\n",
    "baseEx_inf.unpackcFunc()"
   ]
  },
  {
   "cell_type": "code",
   "execution_count": 5,
   "metadata": {
    "code_folding": []
   },
   "outputs": [],
   "source": [
    "# Define a function to calculate expected consumption \n",
    "def exp_consumption(a):\n",
    "    '''\n",
    "    Taking end-of-period assets as input, return expectation of next period's consumption\n",
    "    Inputs:\n",
    "       a: end-of-period assets\n",
    "    Returns:\n",
    "       expconsump: next period's expected consumption\n",
    "    '''\n",
    "    GrowFactp1 = baseEx_inf.PermGroFac[0]* baseEx_inf.PermShkDstn[0][1]\n",
    "    Rnrmtp1 = baseEx_inf.Rfree / GrowFactp1\n",
    "    # end-of-period assets plus normalized returns\n",
    "    btp1 = Rnrmtp1*a\n",
    "    # expand dims of btp1 and use broadcasted sum of a column and a row vector\n",
    "    # to obtain a matrix of possible beginning-of-period assets next period\n",
    "    mtp1 = np.expand_dims(btp1, axis=1) + baseEx_inf.TranShkDstn[0][1]\n",
    "    part_expconsumption = GrowFactp1*baseEx_inf.cFunc[0](mtp1).T\n",
    "    # finish expectation over permanent income shocks by right multiplying with\n",
    "    # the weights\n",
    "    part_expconsumption = np.dot(part_expconsumption, baseEx_inf.PermShkDstn[0][0])\n",
    "    # finish expectation over transitory income shocks by right multiplying with\n",
    "    # weights\n",
    "    expconsumption = np.dot(part_expconsumption, baseEx_inf.TranShkDstn[0][0])\n",
    "    # return expected consumption\n",
    "    return expconsumption"
   ]
  },
  {
   "cell_type": "code",
   "execution_count": 6,
   "metadata": {
    "code_folding": []
   },
   "outputs": [],
   "source": [
    "# Calculate the expected consumption growth factor\n",
    "m1 = np.linspace(1,baseEx_inf.solution[0].mNrmSS,50) # m1 defines the plot range on the left of target m value (e.g. m <= target m)\n",
    "c_m1 = baseEx_inf.cFunc[0](m1)\n",
    "a1 = m1-c_m1\n",
    "exp_consumption_l1 = [exp_consumption(i) for i in a1]\n",
    "\n",
    "# growth1 defines the values of expected consumption growth factor when m is less than target m\n",
    "growth1 = np.array(exp_consumption_l1)/c_m1\n",
    "\n",
    "# m2 defines the plot range on the right of target m value (e.g. m >= target m)\n",
    "m2 = np.linspace(baseEx_inf.solution[0].mNrmSS,1.9,50)\n",
    "\n",
    "c_m2 = baseEx_inf.cFunc[0](m2)\n",
    "a2 = m2-c_m2\n",
    "exp_consumption_l2 = [exp_consumption(i) for i in a2]\n",
    "\n",
    "# growth 2 defines the values of expected consumption growth factor when m is bigger than target m\n",
    "growth2 = np.array(exp_consumption_l2)/c_m2"
   ]
  },
  {
   "cell_type": "code",
   "execution_count": 40,
   "metadata": {
    "code_folding": [
     0
    ]
   },
   "outputs": [],
   "source": [
    "# Define a function to construct the arrows on the consumption growth rate function\n",
    "def arrowplot(axes, x, y, narrs=15, dspace=0.5, direc='neg',\n",
    "              hl=0.01, hw=3, c='black'):\n",
    "    '''\n",
    "    The function is used to plot arrows given the data x and y.\n",
    "\n",
    "    Input:\n",
    "        narrs  :  Number of arrows that will be drawn along the curve\n",
    "\n",
    "        dspace :  Shift the position of the arrows along the curve.\n",
    "                  Should be between 0. and 1.\n",
    "\n",
    "        direc  :  can be 'pos' or 'neg' to select direction of the arrows\n",
    "\n",
    "        hl     :  length of the arrow head\n",
    "\n",
    "        hw     :  width of the arrow head\n",
    "\n",
    "        c      :  color of the edge and face of the arrow head\n",
    "    '''\n",
    "\n",
    "    # r is the distance spanned between pairs of points\n",
    "    r = np.sqrt(np.diff(x)**2+np.diff(y)**2)\n",
    "    r = np.insert(r, 0, 0.0)\n",
    "\n",
    "    # rtot is a cumulative sum of r, it's used to save time\n",
    "    rtot = np.cumsum(r)\n",
    "\n",
    "    # based on narrs set the arrow spacing\n",
    "    aspace = r.sum() / narrs\n",
    "\n",
    "    if direc is 'neg':\n",
    "        dspace = -1.*abs(dspace)\n",
    "    else:\n",
    "        dspace = abs(dspace)\n",
    "\n",
    "    arrowData = [] # will hold tuples of x,y,theta for each arrow\n",
    "    arrowPos = aspace*(dspace) # current point on walk along data\n",
    "                                 # could set arrowPos to 0 if you want\n",
    "                                 # an arrow at the beginning of the curve\n",
    "\n",
    "    ndrawn = 0\n",
    "    rcount = 1\n",
    "    while arrowPos < r.sum() and ndrawn < narrs:\n",
    "        x1,x2 = x[rcount-1],x[rcount]\n",
    "        y1,y2 = y[rcount-1],y[rcount]\n",
    "        da = arrowPos-rtot[rcount]\n",
    "        theta = np.arctan2((x2-x1),(y2-y1))\n",
    "        ax = np.sin(theta)*da+x1\n",
    "        ay = np.cos(theta)*da+y1\n",
    "        arrowData.append((ax,ay,theta))\n",
    "        ndrawn += 1\n",
    "        arrowPos+=aspace\n",
    "        while arrowPos > rtot[rcount+1]:\n",
    "            rcount+=1\n",
    "            if arrowPos > rtot[-1]:\n",
    "                break\n",
    "\n",
    "    for ax,ay,theta in arrowData:\n",
    "        # use aspace as a guide for size and length of things\n",
    "        # scaling factors were chosen by experimenting a bit\n",
    "\n",
    "        dx0 = np.sin(theta)*hl/2.0 + ax\n",
    "        dy0 = np.cos(theta)*hl/2.0 + ay\n",
    "        dx1 = -1.*np.sin(theta)*hl/2.0 + ax\n",
    "        dy1 = -1.*np.cos(theta)*hl/2.0 + ay\n",
    "\n",
    "        if direc is 'neg' :\n",
    "            ax0 = dx0\n",
    "            ay0 = dy0\n",
    "            ax1 = dx1\n",
    "            ay1 = dy1\n",
    "        else:\n",
    "            ax0 = dx1\n",
    "            ay0 = dy1\n",
    "            ax1 = dx0\n",
    "            ay1 = dy0\n",
    "\n",
    "        axes.annotate('', xy=(ax0, ay0), xycoords='data',\n",
    "                xytext=(ax1, ay1), textcoords='data',\n",
    "                arrowprops=dict( headwidth=hw, frac=1., ec=c, fc=c))"
   ]
  },
  {
   "cell_type": "code",
   "execution_count": 61,
   "metadata": {
    "code_folding": []
   },
   "outputs": [
    {
     "data": {
      "text/plain": [
       "<matplotlib.legend.Legend at 0x7fc07f9bae48>"
      ]
     },
     "execution_count": 61,
     "metadata": {},
     "output_type": "execute_result"
    },
    {
     "data": {
      "image/png": "[encoded data removed]",
      "text/plain": [
       "<Figure size 864x576 with 1 Axes>"
      ]
     },
     "metadata": {
      "needs_background": "light"
     },
     "output_type": "display_data"
    }
   ],
   "source": [
    "# Plot consumption growth as a function of market resources\n",
    "# Calculate Absolute Patience Factor Phi = lower bound of consumption growth factor\n",
    "import math\n",
    "\n",
    "AbsPatientFac = math.log((baseEx_inf.Rfree*baseEx_inf.DiscFac)**(1.0/baseEx_inf.CRRA))\n",
    "\n",
    "fig = plt.figure(figsize = (12,8))\n",
    "ax = fig.add_subplot(111)\n",
    "# Plot the Absolute Patience Factor line\n",
    "ax.plot([0,2.0],[AbsPatientFac,AbsPatientFac], label=r'Absolute Patience Rate: $\\rho^{-1}(r-\\delta)$')\n",
    "\n",
    "# Plot the Permanent Income Growth Factor line\n",
    "ax.plot([0,2.0],[math.log(baseEx_inf.PermGroFac[0]),math.log(baseEx_inf.PermGroFac[0])], label=r'Permanent Income Growth Rate: $g$')\n",
    "\n",
    "# Plot the expected consumption growth factor on the left side of target m\n",
    "ax.plot(m1,np.log(growth1),color=\"black\", label=r'Expected Consumption Growth Rate: $E_t\\Delta \\log C_{t+1}$')\n",
    "\n",
    "# Plot the expected consumption growth factor on the right side of target m\n",
    "ax.plot(m2,np.log(growth2),color=\"black\")\n",
    "\n",
    "# Plot the arrows\n",
    "arrowplot(ax, m1,np.log(growth1))\n",
    "arrowplot(ax, m2,np.log(growth2), direc='pos')\n",
    "\n",
    "# Plot the target m\n",
    "ax.plot([baseEx_inf.solution[0].mNrmSS,baseEx_inf.solution[0].mNrmSS],[-1,1.4],color=\"red\",linestyle=\"--\", label='Target Level of Wealth')\n",
    "ax.set_xlim(1,1.9)\n",
    "ax.set_ylim(-0.05,0.05)\n",
    "#ax.set_ylim(0.98,1.08)\n",
    "plt.xlabel('$m_t$', fontsize=20)\n",
    "plt.ylabel('Growth', fontsize=20)\n",
    "plt.legend()"
   ]
  },
  {
   "cell_type": "code",
   "execution_count": 63,
   "metadata": {
    "code_folding": [
     0
    ]
   },
   "outputs": [],
   "source": [
    "# Define a parameter dictionary with baseline parameter values\n",
    "\n",
    "# Set the baseline parameter values \n",
    "PermGroFac = 1.005\n",
    "Rfree      = 1\n",
    "DiscFac    = 0.96\n",
    "CRRA       = 2.00\n",
    "UnempPrb   = 0.005\n",
    "IncUnemp   = 0.0\n",
    "PermShkStd = 0.1\n",
    "TranShkStd = 0.1\n",
    "# Import default parameter values\n",
    "import HARK.ConsumptionSaving.ConsumerParameters as Params \n",
    "\n",
    "# Make a dictionary containing all parameters needed to solve the model\n",
    "base_params1 = Params.init_idiosyncratic_shocks\n",
    "\n",
    "# Set the parameters for the baseline results in the paper\n",
    "# using the variable values defined in the cell above\n",
    "base_params1['PermGroFac'] = [PermGroFac]   # Permanent income growth factor\n",
    "base_params1['Rfree']      = Rfree          # Interest factor on assets\n",
    "base_params1['DiscFac']    = DiscFac        # Time Preference Factor\n",
    "base_params1['CRRA']       = CRRA           # Coefficient of relative risk aversion\n",
    "base_params1['UnempPrb']   = UnempPrb       # Probability of unemployment (e.g. Probability of Zero Income in the paper)\n",
    "base_params1['IncUnemp']   = IncUnemp       # Induces natural borrowing constraint\n",
    "base_params1['PermShkStd'] = [PermShkStd]   # Standard deviation of log permanent income shocks\n",
    "base_params1['TranShkStd'] = [TranShkStd]   # Standard deviation of log transitory income shocks\n",
    "\n",
    "# Some technical settings that are not interesting for our purposes\n",
    "base_params1['LivPrb']       = [1.0]   # 100 percent probability of living to next period\n",
    "base_params1['CubicBool']    = True    # Use cubic spline interpolation\n",
    "base_params1['T_cycle']      = 1       # No 'seasonal' cycles\n",
    "base_params1['BoroCnstArt']  = None    # No artificial borrowing constraint"
   ]
  },
  {
   "cell_type": "code",
   "execution_count": 64,
   "metadata": {},
   "outputs": [
    {
     "name": "stdout",
     "output_type": "stream",
     "text": [
      "The given type violates the finite human wealth condition; the finite human wealth factor value 1.00500 \n"
     ]
    }
   ],
   "source": [
    "from HARK.ConsumptionSaving.ConsIndShockModel import IndShockConsumerType\n",
    "baseEx_inf1 = IndShockConsumerType(cycles=0,**base_params1)\n",
    "\n",
    "baseEx_inf1.solve()\n",
    "baseEx_inf1.unpackcFunc()\n"
   ]
  },
  {
   "cell_type": "code",
   "execution_count": 65,
   "metadata": {
    "code_folding": []
   },
   "outputs": [],
   "source": [
    "# Define a function to calculate expected consumption \n",
    "def exp_consumption(a):\n",
    "    '''\n",
    "    Taking end-of-period assets as input, return expectation of next period's consumption\n",
    "    Inputs:\n",
    "       a: end-of-period assets\n",
    "    Returns:\n",
    "       expconsump: next period's expected consumption\n",
    "    '''\n",
    "    GrowFactp1 = baseEx_inf1.PermGroFac[0]* baseEx_inf1.PermShkDstn[0][1]\n",
    "    Rnrmtp1 = baseEx_inf1.Rfree / GrowFactp1\n",
    "    # end-of-period assets plus normalized returns\n",
    "    btp1 = Rnrmtp1*a\n",
    "    # expand dims of btp1 and use broadcasted sum of a column and a row vector\n",
    "    # to obtain a matrix of possible beginning-of-period assets next period\n",
    "    mtp1 = np.expand_dims(btp1, axis=1) + baseEx_inf1.TranShkDstn[0][1]\n",
    "    part_expconsumption = GrowFactp1*baseEx_inf1.cFunc[0](mtp1).T\n",
    "    # finish expectation over permanent income shocks by right multiplying with\n",
    "    # the weights\n",
    "    part_expconsumption = np.dot(part_expconsumption, baseEx_inf1.PermShkDstn[0][0])\n",
    "    # finish expectation over transitory income shocks by right multiplying with\n",
    "    # weights\n",
    "    expconsumption = np.dot(part_expconsumption, baseEx_inf1.TranShkDstn[0][0])\n",
    "    # return expected consumption\n",
    "    return expconsumption"
   ]
  },
  {
   "cell_type": "code",
   "execution_count": 66,
   "metadata": {
    "code_folding": []
   },
   "outputs": [],
   "source": [
    "# Calculate the expected consumption growth factor\n",
    "m11 = np.linspace(1,baseEx_inf1.solution[0].mNrmSS,50) # m1 defines the plot range on the left of target m value (e.g. m <= target m)\n",
    "c_m11 = baseEx_inf1.cFunc[0](m11)\n",
    "a11 = m11-c_m11\n",
    "exp_consumption_l11 = [exp_consumption(i) for i in a11]\n",
    "\n",
    "# growth1 defines the values of expected consumption growth factor when m is less than target m\n",
    "growth11 = np.array(exp_consumption_l11)/c_m11\n",
    "\n",
    "# m2 defines the plot range on the right of target m value (e.g. m >= target m)\n",
    "m21 = np.linspace(baseEx_inf1.solution[0].mNrmSS,1.9,50)\n",
    "\n",
    "c_m21 = baseEx_inf1.cFunc[0](m21)\n",
    "a21 = m21-c_m21\n",
    "exp_consumption_l21 = [exp_consumption(i) for i in a21]\n",
    "\n",
    "# growth 2 defines the values of expected consumption growth factor when m is bigger than target m\n",
    "growth21 = np.array(exp_consumption_l21)/c_m21"
   ]
  },
  {
   "cell_type": "code",
   "execution_count": 70,
   "metadata": {},
   "outputs": [
    {
     "data": {
      "text/plain": [
       "-0.020410997260127607"
      ]
     },
     "execution_count": 70,
     "metadata": {},
     "output_type": "execute_result"
    }
   ],
   "source": [
    "AbsPatientFac1"
   ]
  },
  {
   "cell_type": "code",
   "execution_count": 95,
   "metadata": {
    "code_folding": []
   },
   "outputs": [
    {
     "data": {
      "text/plain": [
       "<matplotlib.legend.Legend at 0x7fc07f3e1630>"
      ]
     },
     "execution_count": 95,
     "metadata": {},
     "output_type": "execute_result"
    },
    {
     "data": {
      "image/png": "[encoded data removed]",
      "text/plain": [
       "<Figure size 864x576 with 1 Axes>"
      ]
     },
     "metadata": {
      "needs_background": "light"
     },
     "output_type": "display_data"
    }
   ],
   "source": [
    "# Plot consumption growth as a function of market resources\n",
    "# Calculate Absolute Patience Factor Phi = lower bound of consumption growth factor\n",
    "AbsPatientFac1 = math.log((baseEx_inf1.Rfree)*(baseEx_inf1.DiscFac)**(1.0/baseEx_inf1.CRRA))\n",
    "\n",
    "fig = plt.figure(figsize = (12,8))\n",
    "ax = fig.add_subplot(111)\n",
    "# Plot the Absolute Patience Factor line\n",
    "ax.plot([0,1.9],[AbsPatientFac1,AbsPatientFac1],label=r'Absolute Patience Rate: $\\rho^{-1}(r-\\delta)$')\n",
    "#ax.plot([0,1.9],[AbsPatientFac,AbsPatientFac],color=\"red\")\n",
    "\n",
    "# Plot the Permanent Income Growth Factor line\n",
    "ax.plot([0,1.9],[math.log(baseEx_inf1.PermGroFac[0]),math.log(baseEx_inf1.PermGroFac[0])], label=r'Permanent Income Growth Rate: $g_2$', color='orange', linestyle=\"--\")\n",
    "ax.plot([0,1.9],[math.log(baseEx_inf.PermGroFac[0]),math.log(baseEx_inf.PermGroFac[0])], label=r'Permanent Income Growth Rate: $g_1$', color='orange')\n",
    "\n",
    "# Plot the expected consumption growth factor on the left side of target m\n",
    "ax.plot(m11,np.log(growth11),color=\"black\",linestyle=\"--\", label=r'Expected Consumption Growth Rate under $g_2$')\n",
    "ax.plot(m1,np.log(growth1),color=\"black\", label=r'Expected Consumption Growth Rate under $g_1$')\n",
    "\n",
    "# Plot the expected consumption growth factor on the right side of target m\n",
    "ax.plot(m21,np.log(growth21),color=\"black\", linestyle=\"--\")\n",
    "ax.plot(m2,np.log(growth2),color=\"black\")\n",
    "\n",
    "# Plot the arrows\n",
    "#arrowplot(ax, m1,np.log(growth1))\n",
    "#arrowplot(ax, m2,np.log(growth2), direc='pos')\n",
    "\n",
    "# Plot the target m\n",
    "ax.plot([baseEx_inf1.solution[0].mNrmSS,baseEx_inf1.solution[0].mNrmSS],[-0.05,0.05],color=\"red\",linestyle=\"--\", label='Target Level of Wealth under $g_2$')\n",
    "ax.plot([baseEx_inf.solution[0].mNrmSS,baseEx_inf.solution[0].mNrmSS],[-0.05,0.05],color=\"red\", label='Target Level of Wealth under $g_1$')\n",
    "\n",
    "ax.set_xlim(0.9,1.9)\n",
    "ax.set_ylim(-0.05,0.05)\n",
    "plt.xlabel('$m_t$',fontsize=20)\n",
    "plt.ylabel('Growth',fontsize=20)\n",
    "plt.legend()"
   ]
  },
  {
   "cell_type": "markdown",
   "metadata": {},
   "source": [
    "### Methods of Solution\n",
    "\n",
    " \n",
    "\n",
    "The optimal consumption for a given value of gross wealth, $c_t(x_t)$, is derived by solving the Euler equation recursively backwards.\n",
    "\n",
    " \n",
    "\n",
    "1. $c_T(x_T) = x_T$\n",
    "\n",
    "2. For $m$ values of $x_{T-1}$, by using the Euler equation, compute the corresponding $m$ values of $c_{T-1}(x_{T-1})$.\n",
    "\n",
    "3. Using cubic interpolation for values of $x_{T-1}$ between the m values, numerically calculate the function $c_{T-1}(x_{T-1})$.\n",
    "\n",
    "4. Given $c_{T-1}(x_{T-1})$, use the same methods as 2 and 3 to numerically solve for $c_{T-2}(x_{T-2})$.\n",
    "\n",
    "5. Continue this method until period $t$.\n",
    "\n",
    " \n",
    "\n",
    "For the infinite horizon version of this model, the following convergence criterion is used.\n",
    "\n",
    "$$\\frac{1}{m}\\Sigma\\vert c_t(x_i) - c_{t+1}(x_i)\\vert < 0.0005$$"
   ]
  },
  {
   "cell_type": "markdown",
   "metadata": {},
   "source": [
    "### Resolving Three Emprical Puzzles\n",
    "\n",
    "#### 1) The Consumption/Income Parallel in Low Frequency Data\n",
    "\n",
    "Consumption growth and income growth are very closely linked over periods of a few years or longer.\n",
    "\n",
    "Three age/income profiles calibrated using the data for Unskilled Laborers, Operatives, and Managers.\n",
    "1. For Unskilled Labor,labor income grows at 3% annually from ages 25 to 40, and is flat from age 40 to retirement at 65.\n",
    "2. For Operatives, labor income grows at 2.5% annually from the age 25 to 50, then 1% per year until retirement.\n",
    "3. For Managers, income grows at 3% from ages 25 to 55, and declines at 1% per year from 55 to 65.\n",
    "\n",
    "Post-retirement income is assumed to equal 70 percent income in the last year of the working life, for all three groups. "
   ]
  },
  {
   "cell_type": "code",
   "execution_count": 12,
   "metadata": {},
   "outputs": [],
   "source": [
    "import HARK.ConsumptionSaving.ConsIndShockModel as Model        # The consumption-saving micro model\n",
    "import HARK.ConsumptionSaving.ConsumerParameters as Params    # Parameters for the consumer type\n",
    "from HARK.utilities import plotFuncsDer, plotFuncs              # Some tools\n",
    "from time import time\n",
    "mystr = lambda number : \"{:.4f}\".format(number)\n",
    "do_simulation = True\n",
    "import numpy as np\n",
    "import matplotlib.pyplot as plt\n",
    "\n",
    "#Notebooks to look for helpful code\n",
    "# https://github.com/econ-ark/HARK/blob/master/HARK/SolvingMicroDSOPs/Code/StructEstimation.py\n",
    "# https://github.com/econ-ark/HARK/blob/master/HARK/ConsumptionSaving/ConsIndShockModel.py\n",
    "# https://github.com/econ-ark/HARK/blob/master/HARK/ConsumptionSaving/ConsumerParameters.py\n",
    "# https://github.com/matthew-zahn/CGMPort/blob/develop/REMARK/CGM_REMARK.ipynb"
   ]
  },
  {
   "cell_type": "code",
   "execution_count": 13,
   "metadata": {
    "code_folding": []
   },
   "outputs": [],
   "source": [
    "#Set Parameters\n",
    "\n",
    "Params.init_lifecycle[\"CRRA\"]= 2.00            # Default coefficient of relative risk aversion (rho)\n",
    "Params.init_lifecycle[\"DiscFac\"]= 0.96         # Default intertemporal discount factor (beta)\n",
    "Params.init_lifecycle[\"PermGroFacAgg\"]= 1.0    # Aggregate permanent income growth factor \n",
    "Params.init_lifecycle[\"aNrmInitMean\"]= 0       # Mean of log initial assets \n",
    "Params.init_lifecycle[\"aNrmInitStd\"]= 0.0      # Standard deviation of log initial assets\n",
    "Params.init_lifecycle[\"pLvlInitMean\"]= 0.0     # Mean of log initial permanent income \n",
    "Params.init_lifecycle[\"pLvlInitStd\"]= 0.0      # Standard deviation of log initial permanent income\n",
    "\n",
    "Params.init_lifecycle['AgentCount'] = 1000                  #Change the number of agents simulated from default 10000 to 1000\n",
    "\n",
    "Params.init_lifecycle['PermShkStd'] = [0.1]*50               #Originally, [0.1,0.2,0.1,0.2,0.1,0.2,0.1,0,0,0]\n",
    "Params.init_lifecycle['TranShkStd'] = [0.1]*50               #Originally, [0.3,0.2,0.1,0.3,0.2,0.1,0.3,0,0,0]\n",
    "Params.init_lifecycle['LivPrb']     = [1]*50                 #Originally, [0.99,0.9,0.8,0.7,0.6,0.5,0.4,0.3,0.2,0.1]\n",
    "Params.init_lifecycle['T_cycle']    = 50                     #Life starts at age 25 and ends at 75. Originally 10\n",
    "Params.init_lifecycle['T_retire']   = 40                    #Agents retire at age 65. Originally 7\n",
    "Params.init_lifecycle['T_age']      = 51                    #Make sure that old people die at terminal age and don't turn into newborns! Originally 11"
   ]
  },
  {
   "cell_type": "code",
   "execution_count": 14,
   "metadata": {
    "code_folding": []
   },
   "outputs": [],
   "source": [
    "#Unskilled Laborers: 3 percent growth from 25~40. flat for 40~65.\n",
    "\n",
    "Params.init_lifecycle['PermGroFac'] = [1.03]*15 + [1]*25 + [0.7] + [1]*9     #Oringinally, [1.01,1.01,1.01,1.01,1.01,1.02,1.02,1.02,1.02,1.02]\n",
    "\n",
    "Lifecycle_Unskilled = Model.IndShockConsumerType(**Params.init_lifecycle)\n",
    "Lifecycle_Unskilled.cycles = 1 #1 for finite horizon and 0 for infinite horizon\n",
    "Lifecycle_Unskilled.solve()\n",
    "Lifecycle_Unskilled.unpackcFunc()\n",
    "Lifecycle_Unskilled.timeFwd() #make sure that time is moving forward"
   ]
  },
  {
   "cell_type": "code",
   "execution_count": 15,
   "metadata": {
    "code_folding": []
   },
   "outputs": [],
   "source": [
    "#Operatives: 2.5 percent growth from 25~50. 1 percent growth from 50~65.\n",
    "\n",
    "Params.init_lifecycle['PermGroFac'] = [1.025]*25 + [1.01]*15 + [0.7] + [1]*9     #Oringinally, [1.01,1.01,1.01,1.01,1.01,1.02,1.02,1.02,1.02,1.02]\n",
    "\n",
    "Lifecycle_Operatives = Model.IndShockConsumerType(**Params.init_lifecycle)\n",
    "Lifecycle_Operatives.cycles = 1 #1 for finite horizon and 0 for infinite horizon\n",
    "Lifecycle_Operatives.solve()\n",
    "Lifecycle_Operatives.unpackcFunc()\n",
    "Lifecycle_Operatives.timeFwd() #make sure that time is moving forward"
   ]
  },
  {
   "cell_type": "code",
   "execution_count": 16,
   "metadata": {
    "code_folding": []
   },
   "outputs": [],
   "source": [
    "#Managers: 3 percent growth from 25~55. 1 percent decline from 55~65.\n",
    "\n",
    "Params.init_lifecycle['PermGroFac'] = [1.03]*30 + [0.99]*10 + [0.7] + [1]*9     #Oringinally, [1.01,1.01,1.01,1.01,1.01,1.02,1.02,1.02,1.02,1.02]\n",
    "\n",
    "Lifecycle_Managers = Model.IndShockConsumerType(**Params.init_lifecycle)\n",
    "Lifecycle_Managers.cycles = 1 #1 for finite horizon and 0 for infinite horizon\n",
    "Lifecycle_Managers.solve()\n",
    "Lifecycle_Managers.unpackcFunc()\n",
    "Lifecycle_Managers.timeFwd() #make sure that time is moving forward"
   ]
  },
  {
   "cell_type": "code",
   "execution_count": 17,
   "metadata": {
    "code_folding": [
     0
    ]
   },
   "outputs": [],
   "source": [
    "#This is only for showing the consumption function so we don't need to have it run\n",
    "\n",
    "#print('Consumption functions while working:')\n",
    "\n",
    "\n",
    "#mMin = min([Lifecycle_Unskilled.solution[t].mNrmMin for t in range(Lifecycle_Unskilled.T_cycle)])\n",
    "   #Finds the minimum of Lifecycle_Unskilled.solution[t].mNrmMin for t = 0~49\n",
    "   #mNrmMin: The minimum allowable market resources for this period; the consumption function (etc) are undefined for m < mNrmMin.\n",
    "\n",
    "\n",
    "#plotFuncs(Lifecycle_Unskilled.cFunc[:Lifecycle_Unskilled.T_retire],mMin,5)\n",
    "   #This plots the consumption function for life periods 0~40. Plots it with respect to wealth from 0 to 5.\n",
    "   #The highest curve is for period 0.\n",
    "\n",
    "#print('Consumption functions while retired:')\n",
    "#plotFuncs(Lifecycle_Unskilled.cFunc[Lifecycle_Unskilled.T_retire:],0,5)\n",
    "   #Highest graph represents consumption in last period. MPC is 1 since the consumer consumes everything in the second to last period.\n",
    "\n",
    "#Lifecycle_Unskilled.timeRev()\n",
    "   #Set time to reverse so that simulations solve using backward induction"
   ]
  },
  {
   "cell_type": "code",
   "execution_count": 18,
   "metadata": {
    "code_folding": [
     0,
     6,
     12
    ]
   },
   "outputs": [],
   "source": [
    "if do_simulation:\n",
    "    Lifecycle_Unskilled.T_sim = 50 #simulate Lifecycle_Unskilled.T_sim periods for 10000(default) agents\n",
    "    Lifecycle_Unskilled.track_vars = ['aNrmNow','mNrmNow','cNrmNow','pLvlNow','t_age'] #track these variables\n",
    "    Lifecycle_Unskilled.initializeSim()\n",
    "    Lifecycle_Unskilled.simulate()\n",
    "    \n",
    "if do_simulation:\n",
    "    Lifecycle_Operatives.T_sim = 50 #simulate Lifecycle_Unskilled.T_sim periods for 10000(default) agents\n",
    "    Lifecycle_Operatives.track_vars = ['aNrmNow','mNrmNow','cNrmNow','pLvlNow','t_age'] #track these variables\n",
    "    Lifecycle_Operatives.initializeSim()\n",
    "    Lifecycle_Operatives.simulate()\n",
    "\n",
    "if do_simulation:\n",
    "    Lifecycle_Managers.T_sim = 50 #simulate Lifecycle_Unskilled.T_sim periods for 10000(default) agents\n",
    "    Lifecycle_Managers.track_vars = ['aNrmNow','mNrmNow','cNrmNow','pLvlNow','t_age'] #track these variables\n",
    "    Lifecycle_Managers.initializeSim()\n",
    "    Lifecycle_Managers.simulate()"
   ]
  },
  {
   "cell_type": "code",
   "execution_count": 19,
   "metadata": {
    "code_folding": [
     1
    ]
   },
   "outputs": [],
   "source": [
    "import pandas as pd\n",
    "raw_data = {'T_age': Lifecycle_Unskilled.t_age_hist.flatten()+24, #add 24 to make the starting period 25. age is same for all occupations so so need to make three of these.\n",
    "            'cNrmNow_Unskilled': Lifecycle_Unskilled.cNrmNow_hist.flatten(),\n",
    "            'pLvlNow_Unskilled': Lifecycle_Unskilled.pLvlNow_hist.flatten(),\n",
    "            'mNrmNow_Unskilled': Lifecycle_Unskilled.mNrmNow_hist.flatten(),\n",
    "            'cNrmNow_Operatives': Lifecycle_Operatives.cNrmNow_hist.flatten(),\n",
    "            'pLvlNow_Operatives': Lifecycle_Operatives.pLvlNow_hist.flatten(),\n",
    "            'mNrmNow_Operatives': Lifecycle_Operatives.mNrmNow_hist.flatten(), \n",
    "            'cNrmNow_Managers': Lifecycle_Managers.cNrmNow_hist.flatten(),\n",
    "            'pLvlNow_Managers': Lifecycle_Managers.pLvlNow_hist.flatten(),\n",
    "            'mNrmNow_Managers': Lifecycle_Managers.mNrmNow_hist.flatten(),}\n",
    "\n",
    "#Make the simulated results into a dataset\n",
    "\n",
    "Data = pd.DataFrame(raw_data) #make the raw data into a formal dataset\n",
    "Data['Cons_Unskilled'] = Data.cNrmNow_Unskilled * Data.pLvlNow_Unskilled #cNrmNow has to be multiplied by pLvlNow\n",
    "Data['Cons_Operatives'] = Data.cNrmNow_Operatives * Data.pLvlNow_Operatives\n",
    "Data['Cons_Managers'] = Data.cNrmNow_Managers * Data.pLvlNow_Managers\n",
    "\n",
    "Data['Inc_Unskilled'] = Data.pLvlNow_Unskilled\n",
    "Data['Inc_Operatives'] = Data.pLvlNow_Operatives \n",
    "Data['Inc_Managers'] = Data.pLvlNow_Managers\n",
    "#Data['M'] = Data.nrmM * Data.pIncome\n",
    "\n",
    "AgeMeans = Data.groupby(['T_age']).mean().reset_index() # Group the dataset by T_age and get the mean."
   ]
  },
  {
   "cell_type": "code",
   "execution_count": 20,
   "metadata": {},
   "outputs": [
    {
     "data": {
      "text/plain": [
       "Text(0.5, 1.0, 'Managers')"
      ]
     },
     "execution_count": 20,
     "metadata": {},
     "output_type": "execute_result"
    },
    {
     "data": {
      "image/png": "[encoded data removed]",
      "text/plain": [
       "<Figure size 432x288 with 1 Axes>"
      ]
     },
     "metadata": {
      "needs_background": "light"
     },
     "output_type": "display_data"
    },
    {
     "data": {
      "image/png": "[encoded data removed]",
      "text/plain": [
       "<Figure size 432x288 with 1 Axes>"
      ]
     },
     "metadata": {
      "needs_background": "light"
     },
     "output_type": "display_data"
    },
    {
     "data": {
      "image/png": "[encoded data removed]",
      "text/plain": [
       "<Figure size 432x288 with 1 Axes>"
      ]
     },
     "metadata": {
      "needs_background": "light"
     },
     "output_type": "display_data"
    }
   ],
   "source": [
    "plt.figure()\n",
    "\n",
    "plt.plot(AgeMeans.T_age, AgeMeans.Cons_Unskilled,label='Consumption')\n",
    "plt.plot(AgeMeans.T_age, AgeMeans.Inc_Unskilled,label='Income')\n",
    "\n",
    "plt.legend()\n",
    "plt.xlabel('Age')\n",
    "plt.title('Unskilled Laborers')\n",
    "\n",
    "plt.figure()\n",
    "\n",
    "plt.plot(AgeMeans.T_age, AgeMeans.Cons_Operatives,label='Consumption')\n",
    "plt.plot(AgeMeans.T_age, AgeMeans.Inc_Operatives, label='Income')\n",
    "\n",
    "plt.legend()\n",
    "plt.xlabel('Age')\n",
    "plt.title('Operatives')\n",
    "\n",
    "plt.figure()\n",
    "\n",
    "plt.plot(AgeMeans.T_age, AgeMeans.Cons_Managers,label='Consumption')\n",
    "plt.plot(AgeMeans.T_age, AgeMeans.Inc_Managers, label='Income')\n",
    "\n",
    "plt.legend()\n",
    "plt.xlabel('Age')\n",
    "plt.title('Managers')"
   ]
  },
  {
   "cell_type": "markdown",
   "metadata": {},
   "source": [
    "Results show the paralell until the age of 45 or 50. Then retirement savings allow income profile to rise above the consumption profile in the years immediately before the retirement.\n",
    "\n",
    "#### 2) The Consumption/Income Divergence in High Frequency Data\n",
    "\n",
    "The Buffer-Stock model has no difficulty generating an MPC large enough to match emprical estimates, while the standard LC/PIH model is simply incapable of implying large values for the MPC out of transitory income. \n",
    "\n",
    "#### 3) The Behaviour of Wealth over the Lifetime\n",
    "\n",
    "Median ratio of wealth(financial assets) to income(annual income) is between 2 and 35 percent at all ages before the retirement. This fact is stable over the early 1960s and the late 1980s but there was a sharp slowdown(post-1973) in the productivity growth within this period. \n",
    "\n",
    "The productivity growth slowdown is assumed to result in a 1 percent slower growth rate of labor income over the working labor income. \n",
    "\n",
    "This fact is not explained by the standard LC/PIH model as the lower growth induce an enourmous increase in household wealth at all ages greater than 30. On average, the slower curve is higher than the faster curve by an amount equal to roughly two years' worth of income. Thus, the model predicts enourmous increase in household wealth/income ratios due to the productivity slowdown. \n",
    "\n",
    "The results for the same experiment with the buffer-stock model are shown below;\n",
    "\n",
    "The difference between the two productivity growth scenarios is not remotely so dramatic as in the standard model.\n"
   ]
  },
  {
   "cell_type": "markdown",
   "metadata": {},
   "source": [
    "### Conclusion \n",
    "\n",
    "This paper argues that a version of the LC/PIH model is closer both to the behaviour of the typical household and to Friedman's original conception of the Permanent Income Hypothesis model. The buffer-stock version of the model can explain why consumption tracks income closely when aggregated by groups or in whole economies, but is often sharply different from income at the level of individual households. The model is consistent having higher MPC out of transitory income without imposing liquidity constraints. Further, it provides an explanation for why median household wealth/income ratios have remained roughly stable despite a sharp slowdown in expected income growth. "
   ]
  },
  {
   "cell_type": "code",
   "execution_count": null,
   "metadata": {},
   "outputs": [],
   "source": []
  }
 ],
 "metadata": {
  "kernelspec": {
   "display_name": "Python 3",
   "language": "python",
   "name": "python3"
  },
  "language_info": {
   "codemirror_mode": {
    "name": "ipython",
    "version": 3
   },
   "file_extension": ".py",
   "mimetype": "text/x-python",
   "name": "python",
   "nbconvert_exporter": "python",
   "pygments_lexer": "ipython3",
   "version": "3.7.3"
  },
  "latex_envs": {
   "LaTeX_envs_menu_present": true,
   "autoclose": false,
   "autocomplete": true,
   "bibliofile": "biblio.bib",
   "cite_by": "apalike",
   "current_citInitial": 1,
   "eqLabelWithNumbers": true,
   "eqNumInitial": 1,
   "hotkeys": {
    "equation": "Ctrl-E",
    "itemize": "Ctrl-I"
   },
   "labels_anchors": false,
   "latex_user_defs": false,
   "report_style_numbering": false,
   "user_envs_cfg": false
  }
 },
 "nbformat": 4,
 "nbformat_minor": 2
}
